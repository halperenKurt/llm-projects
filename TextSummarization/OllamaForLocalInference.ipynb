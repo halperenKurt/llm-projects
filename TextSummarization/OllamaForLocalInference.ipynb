{
 "cells": [
  {
   "cell_type": "code",
   "execution_count": 1,
   "id": "80479ad8-a2c2-4b30-af7e-078a49169bdd",
   "metadata": {},
   "outputs": [],
   "source": [
    "import requests\n",
    "from bs4 import BeautifulSoup\n",
    "from IPython.display import Markdown, display"
   ]
  },
  {
   "cell_type": "code",
   "execution_count": 2,
   "id": "0e2b213f-3502-481b-a727-db53b7906bb8",
   "metadata": {},
   "outputs": [],
   "source": [
    "OLLAMA_API = \"http://localhost:11434/api/chat\"\n",
    "HEADERS = {\"Content-Type\":\"application/json\"}\n",
    "MODEL = \"llama3.2\""
   ]
  },
  {
   "cell_type": "code",
   "execution_count": 3,
   "id": "3774ac96-e45f-428c-bab3-664584633498",
   "metadata": {},
   "outputs": [],
   "source": [
    "messages = [{\"role\":\"user\",\"content\":\"Describe some of the business applications of Generative AI\"}]"
   ]
  },
  {
   "cell_type": "code",
   "execution_count": 4,
   "id": "fd41b348-8942-4919-b56e-def130bf50a1",
   "metadata": {},
   "outputs": [],
   "source": [
    "payload = {\n",
    "    \"model\":MODEL,\n",
    "    \"messages\":messages,\n",
    "    \"stream\":False\n",
    "}"
   ]
  },
  {
   "cell_type": "code",
   "execution_count": 6,
   "id": "69aa192f-89f7-48e5-858c-03af0ec930ea",
   "metadata": {},
   "outputs": [
    {
     "name": "stdout",
     "output_type": "stream",
     "text": [
      "Generative AI has numerous business applications across various industries. Here are some examples:\n",
      "\n",
      "1. **Content Generation**: Generative AI can be used to generate high-quality content such as articles, social media posts, product descriptions, and more. This can help businesses save time and resources, while also improving the quality of their content.\n",
      "2. **Image and Video Creation**: Generative AI can create realistic images and videos that can be used for marketing, advertising, and entertainment purposes. For example, a company could use generative AI to create custom product images or promotional videos.\n",
      "3. **Chatbots and Virtual Assistants**: Generative AI can be used to power chatbots and virtual assistants that can provide customer support, answer frequently asked questions, and offer personalized recommendations.\n",
      "4. **Personalization**: Generative AI can help businesses personalize their marketing efforts by generating customized content, offers, and experiences for individual customers based on their preferences and behavior.\n",
      "5. **Predictive Analytics**: Generative AI can be used to analyze large datasets and generate predictions about future trends, customer behavior, and market performance.\n",
      "6. **Automated Writing and Editing**: Generative AI can help businesses automate the writing and editing process by generating high-quality content, such as reports, whitepapers, and blog posts.\n",
      "7. **Marketing Campaign Optimization**: Generative AI can be used to optimize marketing campaigns by analyzing data, identifying trends, and suggesting new campaign strategies.\n",
      "8. **Customer Experience**: Generative AI can help businesses create personalized customer experiences by generating customized offers, recommendations, and interactions based on individual customer preferences.\n",
      "9. **Product Development**: Generative AI can be used to design and develop new products by generating 3D models, prototypes, and product simulations.\n",
      "10. **Cybersecurity**: Generative AI can be used to detect and respond to cybersecurity threats by analyzing network traffic, identifying anomalies, and predicting potential attacks.\n",
      "\n",
      "Some specific examples of businesses that are using generative AI include:\n",
      "\n",
      "* **Amazon**: Using generative AI to personalize customer recommendations and optimize marketing campaigns\n",
      "* **Google**: Using generative AI to improve its search engine results and personalized advertising experiences\n",
      "* **Ford Motor Company**: Using generative AI to design and develop new car models and prototypes\n",
      "* **Nike**: Using generative AI to create customized product designs and virtual try-on experiences\n",
      "\n",
      "These are just a few examples of the many business applications of generative AI. As the technology continues to evolve, we can expect to see even more innovative uses in various industries.\n"
     ]
    }
   ],
   "source": [
    "response = requests.post(OLLAMA_API,json=payload,headers=HEADERS)\n",
    "print(response.json()['message']['content'])"
   ]
  },
  {
   "cell_type": "code",
   "execution_count": 7,
   "id": "84bcca4a-d55c-4560-9105-50f42d9be6d9",
   "metadata": {},
   "outputs": [
    {
     "name": "stdout",
     "output_type": "stream",
     "text": [
      "Generative AI has numerous business applications across various industries. Here are some examples:\n",
      "\n",
      "1. **Content Creation**: Generative AI can be used to generate high-quality content such as articles, social media posts, and product descriptions. This can help businesses save time and resources while maintaining a consistent tone and style.\n",
      "2. **Product Design**: Generative AI can be used to design new products, such as furniture, electronics, or clothing. This can help businesses reduce the time and cost associated with traditional product design processes.\n",
      "3. **Marketing Campaigns**: Generative AI can be used to generate personalized marketing campaigns, including targeted ads, social media posts, and email campaigns.\n",
      "4. **Customer Service Chatbots**: Generative AI can be used to create more sophisticated customer service chatbots that can understand natural language and respond accordingly.\n",
      "5. **Predictive Analytics**: Generative AI can be used to analyze large datasets and make predictions about future trends and outcomes. This can help businesses make more informed decisions.\n",
      "6. **Automated Writing**: Generative AI can be used to generate automated writing, such as reports, proposals, and other documents that require a high level of accuracy.\n",
      "7. **Image and Video Generation**: Generative AI can be used to generate high-quality images and videos for use in marketing campaigns, product demonstrations, and other applications.\n",
      "8. **Music and Audio Generation**: Generative AI can be used to generate original music and audio content, such as sound effects or voiceovers.\n",
      "9. **Language Translation**: Generative AI can be used to translate languages in real-time, helping businesses communicate with customers who speak different languages.\n",
      "10. **Supply Chain Optimization**: Generative AI can be used to analyze supply chain data and optimize logistics and inventory management.\n",
      "\n",
      "Some specific business applications of Generative AI include:\n",
      "\n",
      "* **Salesforce**: Uses generative AI to personalize customer experiences and automate sales processes.\n",
      "* **HubSpot**: Uses generative AI to generate high-quality content, such as blog posts and social media posts.\n",
      "* **Amazon**: Uses generative AI to create personalized product recommendations and optimize supply chain operations.\n",
      "* **Google**: Uses generative AI to improve language translation, image recognition, and other applications.\n",
      "\n",
      "These are just a few examples of the many business applications of Generative AI. As the technology continues to evolve, we can expect to see even more innovative uses across various industries.\n"
     ]
    }
   ],
   "source": [
    "import ollama\n",
    "\n",
    "response = ollama.chat(model=MODEL,messages=messages)\n",
    "print(response['message']['content'])"
   ]
  }
 ],
 "metadata": {
  "kernelspec": {
   "display_name": "Python 3 (ipykernel)",
   "language": "python",
   "name": "python3"
  },
  "language_info": {
   "codemirror_mode": {
    "name": "ipython",
    "version": 3
   },
   "file_extension": ".py",
   "mimetype": "text/x-python",
   "name": "python",
   "nbconvert_exporter": "python",
   "pygments_lexer": "ipython3",
   "version": "3.11.13"
  }
 },
 "nbformat": 4,
 "nbformat_minor": 5
}
